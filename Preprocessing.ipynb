{
 "cells": [
  {
   "cell_type": "code",
   "execution_count": 2,
   "metadata": {},
   "outputs": [],
   "source": [
    "import pandas as pd\n",
    "from ast import literal_eval\n",
    "import matplotlib.pyplot as plt\n",
    "plt.style.use('seaborn')"
   ]
  },
  {
   "cell_type": "code",
   "execution_count": 3,
   "metadata": {},
   "outputs": [],
   "source": [
    "namekey = pd.read_csv('cleanData/cleanIMDB/imdb_namekey.csv', index_col=0) # import name key"
   ]
  },
  {
   "cell_type": "code",
   "execution_count": 4,
   "metadata": {},
   "outputs": [],
   "source": [
    "comp = pd.read_csv('cleanData/imdb_combined_prof.csv') # import movie composite dataset - info and ROI % info"
   ]
  },
  {
   "cell_type": "code",
   "execution_count": 5,
   "metadata": {},
   "outputs": [],
   "source": [
    "# remove unnecessary columns\n",
    "comp.drop(axis=1, labels=['Unnamed: 0', 'Unnamed: 0_x', 'Unnamed: 0_y', 'id', 'concat'], inplace=True)"
   ]
  },
  {
   "cell_type": "code",
   "execution_count": 6,
   "metadata": {},
   "outputs": [
    {
     "data": {
      "text/html": [
       "<div>\n",
       "<style scoped>\n",
       "    .dataframe tbody tr th:only-of-type {\n",
       "        vertical-align: middle;\n",
       "    }\n",
       "\n",
       "    .dataframe tbody tr th {\n",
       "        vertical-align: top;\n",
       "    }\n",
       "\n",
       "    .dataframe thead th {\n",
       "        text-align: right;\n",
       "    }\n",
       "</style>\n",
       "<table border=\"1\" class=\"dataframe\">\n",
       "  <thead>\n",
       "    <tr style=\"text-align: right;\">\n",
       "      <th></th>\n",
       "      <th>tconst</th>\n",
       "      <th>primary_title</th>\n",
       "      <th>original_title</th>\n",
       "      <th>start_year</th>\n",
       "      <th>runtime_minutes</th>\n",
       "      <th>genres</th>\n",
       "      <th>averagerating</th>\n",
       "      <th>numvotes</th>\n",
       "      <th>directors</th>\n",
       "      <th>writers</th>\n",
       "      <th>...</th>\n",
       "      <th>ROI_percent</th>\n",
       "      <th>ROI_usd</th>\n",
       "      <th>year</th>\n",
       "      <th>month</th>\n",
       "      <th>inflation</th>\n",
       "      <th>worldwide_gross_inf</th>\n",
       "      <th>domestic_gross_inf</th>\n",
       "      <th>production_budget_inf</th>\n",
       "      <th>ROI_USD_inf</th>\n",
       "      <th>ROI%_inf</th>\n",
       "    </tr>\n",
       "  </thead>\n",
       "  <tbody>\n",
       "    <tr>\n",
       "      <th>0</th>\n",
       "      <td>tt1137470</td>\n",
       "      <td>Accidental Love</td>\n",
       "      <td>Accidental Love</td>\n",
       "      <td>2015</td>\n",
       "      <td>100.0</td>\n",
       "      <td>['Comedy', 'Romance']</td>\n",
       "      <td>4.1</td>\n",
       "      <td>7048.0</td>\n",
       "      <td>['nm0751102']</td>\n",
       "      <td>['nm0330751', 'nm0799052', 'nm1001124']</td>\n",
       "      <td>...</td>\n",
       "      <td>-0.994791</td>\n",
       "      <td>-25864564</td>\n",
       "      <td>2015</td>\n",
       "      <td>March</td>\n",
       "      <td>1.15</td>\n",
       "      <td>155751.40</td>\n",
       "      <td>0.00</td>\n",
       "      <td>29900000.0</td>\n",
       "      <td>-29744248.60</td>\n",
       "      <td>-99.479092</td>\n",
       "    </tr>\n",
       "    <tr>\n",
       "      <th>1</th>\n",
       "      <td>tt1403241</td>\n",
       "      <td>Wolves</td>\n",
       "      <td>Wolves</td>\n",
       "      <td>2014</td>\n",
       "      <td>91.0</td>\n",
       "      <td>['Action', 'Fantasy', 'Horror']</td>\n",
       "      <td>5.3</td>\n",
       "      <td>7312.0</td>\n",
       "      <td>['nm0371684']</td>\n",
       "      <td>['nm0371684']</td>\n",
       "      <td>...</td>\n",
       "      <td>-0.994725</td>\n",
       "      <td>-17905047</td>\n",
       "      <td>2014</td>\n",
       "      <td>November</td>\n",
       "      <td>1.15</td>\n",
       "      <td>109195.95</td>\n",
       "      <td>0.00</td>\n",
       "      <td>20700000.0</td>\n",
       "      <td>-20590804.05</td>\n",
       "      <td>-99.472483</td>\n",
       "    </tr>\n",
       "    <tr>\n",
       "      <th>2</th>\n",
       "      <td>tt1125929</td>\n",
       "      <td>Love Ranch</td>\n",
       "      <td>Love Ranch</td>\n",
       "      <td>2010</td>\n",
       "      <td>117.0</td>\n",
       "      <td>['Biography', 'Comedy', 'Drama']</td>\n",
       "      <td>5.6</td>\n",
       "      <td>2742.0</td>\n",
       "      <td>['nm0000431']</td>\n",
       "      <td>['nm0414893']</td>\n",
       "      <td>...</td>\n",
       "      <td>-0.994154</td>\n",
       "      <td>-24853851</td>\n",
       "      <td>2010</td>\n",
       "      <td>June</td>\n",
       "      <td>1.25</td>\n",
       "      <td>182686.25</td>\n",
       "      <td>172356.25</td>\n",
       "      <td>31250000.0</td>\n",
       "      <td>-31067313.75</td>\n",
       "      <td>-99.415404</td>\n",
       "    </tr>\n",
       "    <tr>\n",
       "      <th>3</th>\n",
       "      <td>tt1545106</td>\n",
       "      <td>Vamps</td>\n",
       "      <td>Vamps</td>\n",
       "      <td>2012</td>\n",
       "      <td>92.0</td>\n",
       "      <td>['Comedy', 'Horror', 'Romance']</td>\n",
       "      <td>5.2</td>\n",
       "      <td>8838.0</td>\n",
       "      <td>['nm0002132']</td>\n",
       "      <td>['nm0002132']</td>\n",
       "      <td>...</td>\n",
       "      <td>-0.994074</td>\n",
       "      <td>-15905188</td>\n",
       "      <td>2012</td>\n",
       "      <td>November</td>\n",
       "      <td>1.19</td>\n",
       "      <td>112826.28</td>\n",
       "      <td>3999.59</td>\n",
       "      <td>19040000.0</td>\n",
       "      <td>-18927173.72</td>\n",
       "      <td>-99.407425</td>\n",
       "    </tr>\n",
       "    <tr>\n",
       "      <th>4</th>\n",
       "      <td>tt1486193</td>\n",
       "      <td>5 Days of War</td>\n",
       "      <td>5 Days of War</td>\n",
       "      <td>2011</td>\n",
       "      <td>113.0</td>\n",
       "      <td>['Action', 'Drama', 'War']</td>\n",
       "      <td>5.6</td>\n",
       "      <td>13089.0</td>\n",
       "      <td>['nm0001317']</td>\n",
       "      <td>['nm1209140', 'nm3649361']</td>\n",
       "      <td>...</td>\n",
       "      <td>-0.992684</td>\n",
       "      <td>-11912207</td>\n",
       "      <td>2011</td>\n",
       "      <td>August</td>\n",
       "      <td>1.21</td>\n",
       "      <td>106229.53</td>\n",
       "      <td>21149.59</td>\n",
       "      <td>14520000.0</td>\n",
       "      <td>-14413770.47</td>\n",
       "      <td>-99.268392</td>\n",
       "    </tr>\n",
       "  </tbody>\n",
       "</table>\n",
       "<p>5 rows × 37 columns</p>\n",
       "</div>"
      ],
      "text/plain": [
       "      tconst    primary_title   original_title  start_year  runtime_minutes  \\\n",
       "0  tt1137470  Accidental Love  Accidental Love        2015            100.0   \n",
       "1  tt1403241           Wolves           Wolves        2014             91.0   \n",
       "2  tt1125929       Love Ranch       Love Ranch        2010            117.0   \n",
       "3  tt1545106            Vamps            Vamps        2012             92.0   \n",
       "4  tt1486193    5 Days of War    5 Days of War        2011            113.0   \n",
       "\n",
       "                             genres  averagerating  numvotes      directors  \\\n",
       "0             ['Comedy', 'Romance']            4.1    7048.0  ['nm0751102']   \n",
       "1   ['Action', 'Fantasy', 'Horror']            5.3    7312.0  ['nm0371684']   \n",
       "2  ['Biography', 'Comedy', 'Drama']            5.6    2742.0  ['nm0000431']   \n",
       "3   ['Comedy', 'Horror', 'Romance']            5.2    8838.0  ['nm0002132']   \n",
       "4        ['Action', 'Drama', 'War']            5.6   13089.0  ['nm0001317']   \n",
       "\n",
       "                                   writers  ... ROI_percent   ROI_usd  year  \\\n",
       "0  ['nm0330751', 'nm0799052', 'nm1001124']  ...   -0.994791 -25864564  2015   \n",
       "1                            ['nm0371684']  ...   -0.994725 -17905047  2014   \n",
       "2                            ['nm0414893']  ...   -0.994154 -24853851  2010   \n",
       "3                            ['nm0002132']  ...   -0.994074 -15905188  2012   \n",
       "4               ['nm1209140', 'nm3649361']  ...   -0.992684 -11912207  2011   \n",
       "\n",
       "      month inflation worldwide_gross_inf domestic_gross_inf  \\\n",
       "0     March      1.15           155751.40               0.00   \n",
       "1  November      1.15           109195.95               0.00   \n",
       "2      June      1.25           182686.25          172356.25   \n",
       "3  November      1.19           112826.28            3999.59   \n",
       "4    August      1.21           106229.53           21149.59   \n",
       "\n",
       "  production_budget_inf  ROI_USD_inf   ROI%_inf  \n",
       "0            29900000.0 -29744248.60 -99.479092  \n",
       "1            20700000.0 -20590804.05 -99.472483  \n",
       "2            31250000.0 -31067313.75 -99.415404  \n",
       "3            19040000.0 -18927173.72 -99.407425  \n",
       "4            14520000.0 -14413770.47 -99.268392  \n",
       "\n",
       "[5 rows x 37 columns]"
      ]
     },
     "execution_count": 6,
     "metadata": {},
     "output_type": "execute_result"
    }
   ],
   "source": [
    "comp.head()"
   ]
  },
  {
   "cell_type": "markdown",
   "metadata": {},
   "source": [
    "## Step 1: Prepare dataframe for grouping"
   ]
  },
  {
   "cell_type": "code",
   "execution_count": 22,
   "metadata": {},
   "outputs": [],
   "source": [
    "# if possible, convert list-looking strings into actual lists for downstream df.explode()\n",
    "def lit_try(val):\n",
    "    try:\n",
    "        return literal_eval(val) # function which parses strings to find type\n",
    "    except:\n",
    "        return val # pass null values or other non-strings to avoid exceptions"
   ]
  },
  {
   "cell_type": "code",
   "execution_count": 23,
   "metadata": {},
   "outputs": [],
   "source": [
    "comp.iloc[:,8:22] = comp.iloc[:,8:22].applymap(lit_try) # convert role column values into lists"
   ]
  },
  {
   "cell_type": "code",
   "execution_count": 24,
   "metadata": {},
   "outputs": [],
   "source": [
    "# add two director columns together (columns from two different sources)\n",
    "comp['director'] = comp['directors'] + comp['director_pr']"
   ]
  },
  {
   "cell_type": "code",
   "execution_count": 25,
   "metadata": {},
   "outputs": [],
   "source": [
    "# add two writer columns together (columns from two different sources)\n",
    "comp['writer'] = comp['writers'] + comp['writer_pr']"
   ]
  },
  {
   "cell_type": "code",
   "execution_count": 26,
   "metadata": {},
   "outputs": [],
   "source": [
    "# add actor and actress columns to make gender neutral column\n",
    "comp['actor/actress'] = comp['actor'] + comp['actress']"
   ]
  },
  {
   "cell_type": "markdown",
   "metadata": {},
   "source": [
    "### Select most important roles\n",
    "\n",
    "Of all the available roles, let's select all but the production designer, archive footage, archive sound, and self"
   ]
  },
  {
   "cell_type": "code",
   "execution_count": 27,
   "metadata": {},
   "outputs": [],
   "source": [
    "# list of roles we want to analyze\n",
    "pplorder = ['actor','actress','actor/actress','director','writer','producer','cinematographer','editor','composer']"
   ]
  }
 ],
 "metadata": {
  "kernelspec": {
   "display_name": "Python (learn-env)",
   "language": "python",
   "name": "learn-env"
  },
  "language_info": {
   "codemirror_mode": {
    "name": "ipython",
    "version": 3
   },
   "file_extension": ".py",
   "mimetype": "text/x-python",
   "name": "python",
   "nbconvert_exporter": "python",
   "pygments_lexer": "ipython3",
   "version": "3.8.5"
  }
 },
 "nbformat": 4,
 "nbformat_minor": 4
}
