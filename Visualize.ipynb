{
 "cells": [
  {
   "cell_type": "markdown",
   "metadata": {},
   "source": [
    "## Step 5: Visualize # of Movies vs. %ROI for each role using a scatterplot\n",
    "\n",
    "\\# of movies is used a proxy for consistent success in people's various roles. For example, one movie might just be a fluke, aka \"One Hit Wonder\" status.\n",
    "\n",
    "Because all the dataframes are stored as dictionaries, it will be easy to iterate through them to quickly make a collection of figures."
   ]
  },
  {
   "cell_type": "code",
   "execution_count": null,
   "metadata": {},
   "outputs": [],
   "source": [
    "# all # of movies\n",
    "\n",
    "# create figure\n",
    "fig, ax = plt.subplots(3, 3, figsize=[30,22.5])\n",
    "plt.tight_layout(pad=5)\n",
    "\n",
    "# get index `i` for plotting purposes, `ppl` for dataframe data purposes\n",
    "for i,ppl in enumerate(pplorder):\n",
    "    \n",
    "    # to orient the figure in the correct subplot\n",
    "    r = i//3\n",
    "    c = i%3\n",
    "    \n",
    "    # plot the data in `ppl` dataframes from `ppl_comp`\n",
    "    # `movie_count` on x, `ROI_careertot%` on y\n",
    "    ax[r,c].scatter(x=ppl_comp[ppl]['movie_count'],y=ppl_comp[ppl]['ROI_careertot%'], label='Person')\n",
    "    \n",
    "    # plot averages in `ppl_comp_avgs`\n",
    "    # `f'{ppl}_movie_count'` vertical line\n",
    "    # `f'{ppl}_%ROI_avg'` horizontal line\n",
    "    ax[r,c].axvline(ppl_comp_avgs[f'{ppl}_movie_count'], ls='--', color='green', label='Average Movie Count')\n",
    "    ax[r,c].axhline(ppl_comp_avgs[f'{ppl}_%ROI_avg'], ls='--', color='red', label='Average ROI%')\n",
    "    \n",
    "    # remove grid to reduce busy-ness\n",
    "    ax[r,c].grid(False)\n",
    "    \n",
    "    # labels and title\n",
    "    ax[r,c].set_xlabel('# of Movies', fontsize=18)\n",
    "    ax[r,c].set_ylabel('%ROI (Inflation Adjusted)', fontsize=18)\n",
    "    ax[r,c].set_title(f'# of Movies vs. %ROI: {ppl.capitalize()}', fontsize=20)\n",
    "    ax[r,c].tick_params(axis='both', which='major', labelsize=16)\n",
    "    \n",
    "    # set ticks in increments of 1, except 'producer', which is 5 due to high movie counts\n",
    "    if ppl == 'producer':\n",
    "        ax[r,c].xaxis.set_major_locator(plt.MultipleLocator(5))\n",
    "    else:\n",
    "        ax[r,c].xaxis.set_major_locator(plt.MultipleLocator(1))\n",
    "\n",
    "# label the whole figure outside the subplots to reduce busy-ness\n",
    "lines, labels = fig.axes[0].get_legend_handles_labels()\n",
    "fig.legend(lines, labels, bbox_to_anchor=(0.97,0.98), loc='lower right', fontsize=20, frameon=True)"
   ]
  },
  {
   "cell_type": "markdown",
   "metadata": {},
   "source": [
    "## Step 6: Plot top performers in each role in a bar graph\n",
    "\n",
    "Now we can hone in on the 5 best people in each role and compare them on one axis: ROI%"
   ]
  },
  {
   "cell_type": "code",
   "execution_count": null,
   "metadata": {},
   "outputs": [],
   "source": [
    "# grab top 5 names in each position\n",
    "ppl_compT = {}\n",
    "\n",
    "for ppl in ppl_comp.keys():\n",
    "    ppl_compT[ppl] = ppl_comp[ppl].head(5)"
   ]
  },
  {
   "cell_type": "code",
   "execution_count": null,
   "metadata": {},
   "outputs": [],
   "source": [
    "# create figure\n",
    "fig, ax = plt.subplots(3, 3, figsize=[25,15])\n",
    "plt.tight_layout(pad=10)\n",
    "\n",
    "# get index `i` for plotting purposes, `ppl` for dataframe data purposes\n",
    "for i,ppl in enumerate(pplorder):\n",
    "    \n",
    "    # to orient the figure in the correct subplot\n",
    "    r = i//3\n",
    "    c = i%3\n",
    "    \n",
    "    # plot the data in `ppl` dataframes from `ppl_compT`\n",
    "    # `ROI_careertot%` as width, `primary_name` as label pn y axis\n",
    "    ax[r,c].barh(y=ppl_compT[ppl]['primary_name'],width=ppl_compT[ppl]['ROI_careertot%'], label='Person')\n",
    "    ax[r,c].invert_yaxis()\n",
    "    \n",
    "    # remove grid to reduce busy-ness\n",
    "    ax[r,c].grid(False)\n",
    "    \n",
    "    # plot average ROI% as horizontal line \n",
    "    # `f'{ppl}_%ROI_avg'` in `ppl_comp_avgs`\n",
    "    ax[r,c].axvline(ppl_comp_avgs[f'{ppl}_%ROI_avg'], ls='--', color='red', label='Average ROI%')\n",
    "    \n",
    "    # labels and title\n",
    "    ax[r,c].set_xlabel('%ROI (Inflation Adjusted)', fontsize=18)\n",
    "    ax[r,c].set_title(f'Name vs. %ROI: {ppl.capitalize()}', fontsize=20)\n",
    "    ax[r,c].tick_params(axis='both', which='major', labelsize=16)\n",
    "    \n",
    "# label the whole figure outside the subplots to reduce busy-ness\n",
    "lines, labels = fig.axes[0].get_legend_handles_labels()\n",
    "fig.legend(lines, labels, bbox_to_anchor=(0.94,0.93), loc='lower right', fontsize=20, frameon=True)\n",
    "\n",
    "# save the figure\n",
    "plt.savefig('images/peoplefigs/name_roi_bar_allmov.png');"
   ]
  }
 ],
 "metadata": {
  "kernelspec": {
   "display_name": "Python (learn-env)",
   "language": "python",
   "name": "learn-env"
  },
  "language_info": {
   "codemirror_mode": {
    "name": "ipython",
    "version": 3
   },
   "file_extension": ".py",
   "mimetype": "text/x-python",
   "name": "python",
   "nbconvert_exporter": "python",
   "pygments_lexer": "ipython3",
   "version": "3.8.5"
  }
 },
 "nbformat": 4,
 "nbformat_minor": 4
}
