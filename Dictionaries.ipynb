{
 "cells": [
  {
   "cell_type": "markdown",
   "metadata": {},
   "source": [
    "## Step 2: Group movies by person, for each role\n",
    "\n",
    "Because the process to analyze the data is so similar across the various roles we're interested in, I'm going to write a loop that does all the analyses iteratively for each role `ppl` (people) in `pplorder`.\n",
    "\n",
    "This will use two dictionaries:\n",
    "\n",
    "1. `ppldfdictpre` has key `ppl` for each item in `pplorder`, for value dataframe which results from the original `comp` composite dataframe exploded on the column named `ppl`. This will be used for downstream calculation of the career ROI% for each person, done by using the sums of the worldwide gross and budget numbers for all the movies each person has worked on, `ROI_careertot%`. This will also be used to get the number of movies each person (in role `ppl`) worked on, `movie_count`.\n",
    "2. `ppldfdict` has key `ppl` for each item in `pplorder`, for value dataframe which results from the original `comp` composite dataframe, grouped by individual person id value (`nconst` in `namekey` dataframe) in column `ppl`, and the means for all the numerical columns of these groups. The resulting dataframe is trimmed to only include necessary columns for downstream analysis: `start_year`, `runtime_minutes`, `averagerating`, `numvotes`, `worldwide_gross_inf`, `production_budget_inf`, `ROI_careertot%`, and `movie_count`."
   ]
  },
  {
   "cell_type": "code",
   "execution_count": null,
   "metadata": {},
   "outputs": [],
   "source": [
    "# create dictionaries to store a dataframe (value) for each role (key)\n",
    "ppldfdictpre = {} # initialize dictionary for explode/drop_duplicates step\n",
    "ppldfdict = {}    # initialize dictionary to store end result\n",
    "\n",
    "for ppl in pplorder: # loop over each role (`ppl`) in `pplorder`\n",
    "    \n",
    "    # for each role (`ppl`):\n",
    "\n",
    "    # explode lists present in the column named `ppl` in composite dataframe (`comp`)\n",
    "    # drop the duplicates (\"director\" & \"writer\" in particular was expected to have dupes)\n",
    "        # (duplicates found by subset to avoid list error with other `ppl` columns in `comp`)\n",
    "    # store the resulting dataframe as a value with key `ppl` in `ppldfdictpre` dictionary\n",
    "    ppldfdictpre[ppl] = comp.explode(ppl).drop_duplicates(subset=['tconst','primary_title','start_year',ppl])\n",
    "    \n",
    "    # for key `ppl` in `ppldfdictpre` dictionary, take the value dataframe\n",
    "    # group the `ppl` column by name id value (`nconst` in `namekey` dataframe)\n",
    "    # take the mean of the aggregated groups' numerical columns\n",
    "    # store the resulting dataframe as a value with key `ppl` in `ppldfdict` dictionary\n",
    "    ppldfdict[ppl] = ppldfdictpre[ppl].groupby(ppl).mean()\n",
    "    \n",
    "    # for key `ppl` in `ppldfdictpre` dictionary, take the value dataframe\n",
    "    # group the `ppl` column by name id value (`nconst` in `namekey` dataframe)\n",
    "    # take the sum of the aggregated groups' numerical columns\n",
    "    # do series math: \n",
    "        # use those summed columns to calculate ROI% with `worldwide_gross_inf` and `production_budget_inf`\n",
    "        # '_inf' stands for \"adjusted for inflation\"\n",
    "    # store the resulting series as column `ROI_careertot%` in `ppldfdict[ppl]`\n",
    "    ppldfdict[ppl]['ROI_careertot%'] = (ppldfdictpre[ppl].groupby(ppl).sum()['worldwide_gross_inf'] -\\\n",
    "                                     ppldfdictpre[ppl].groupby(ppl).sum()['production_budget_inf']) /\\\n",
    "                                     ppldfdictpre[ppl].groupby(ppl).sum()['production_budget_inf']*100\n",
    "    \n",
    "    # for key `ppl` in `ppldfdictpre` dictionary, take the value dataframe\n",
    "    # group the `ppl` column by name id value (`nconst` in `namekey` dataframe)\n",
    "    # get the number of rows per aggregated group with .size()\n",
    "    ppldfdict[ppl]['movie_count'] = ppldfdictpre[ppl].groupby(ppl).size()\n",
    "    \n",
    "    # for key `ppl` in `ppldfdict` dictionary, sort by `ROI_careertot%` descending\n",
    "    ppldfdict[ppl]= ppldfdict[ppl].sort_values(by='ROI_careertot%',ascending=False)\n",
    "    \n",
    "    # for key `ppl` in `ppldfdict` dictionary, trim columns to only what we need downstream\n",
    "    ppldfdict[ppl] = ppldfdict[ppl][['start_year','runtime_minutes','averagerating','numvotes','worldwide_gross_inf',\\\n",
    "                                     'production_budget_inf','ROI_careertot%','movie_count']]"
   ]
  },
  {
   "cell_type": "markdown",
   "metadata": {},
   "source": [
    "## Step 3: Merge with name info\n",
    "\n",
    "Now we'll use the `namekey` dataframe to yield the name info for each `nconst` value in the `ppl` role dataframes."
   ]
  },
  {
   "cell_type": "code",
   "execution_count": null,
   "metadata": {},
   "outputs": [],
   "source": [
    "# merge the role dataframes with the name info\n",
    "ppl_comp = {} # dictionary for composite people dataframes\n",
    "ppl_nums = {} # dictionary for counts of each dataframe\n",
    "for ppl in ppldfdict.keys():\n",
    "    ppl_comp[ppl] = ppldfdict[ppl].merge(namekey, how='left', left_on=ppl, right_on='nconst')\n",
    "    ppl_nums[ppl] = len(ppl_comp[ppl]) # number of people in each role"
   ]
  },
  {
   "cell_type": "markdown",
   "metadata": {},
   "source": [
    "## Step 4: Find average movie counts and %ROI for each dataframe\n",
    "Create a new dictionary:\n",
    "- `ppl_comp_avgs`"
   ]
  },
  {
   "cell_type": "code",
   "execution_count": null,
   "metadata": {},
   "outputs": [],
   "source": [
    "ppl_comp_avgs = {}\n",
    "for ppl in ppl_comp.keys():\n",
    "    ppl_comp_avgs[f'{ppl}_movie_count'] = ppl_comp[ppl]['movie_count'].mean()\n",
    "    ppl_comp_avgs[f'{ppl}_%ROI_avg'] = ppl_comp[ppl]['ROI_careertot%'].mean()"
   ]
  }
 ],
 "metadata": {
  "kernelspec": {
   "display_name": "Python (learn-env)",
   "language": "python",
   "name": "learn-env"
  },
  "language_info": {
   "codemirror_mode": {
    "name": "ipython",
    "version": 3
   },
   "file_extension": ".py",
   "mimetype": "text/x-python",
   "name": "python",
   "nbconvert_exporter": "python",
   "pygments_lexer": "ipython3",
   "version": "3.8.5"
  }
 },
 "nbformat": 4,
 "nbformat_minor": 4
}
